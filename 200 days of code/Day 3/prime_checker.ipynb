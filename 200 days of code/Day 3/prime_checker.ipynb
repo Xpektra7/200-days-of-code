{
 "cells": [
  {
   "cell_type": "markdown",
   "metadata": {},
   "source": [
    "## Primality Check Function"
   ]
  },
  {
   "cell_type": "code",
   "execution_count": null,
   "metadata": {},
   "outputs": [
    {
     "data": {
      "text/plain": [
       "(True, 33)"
      ]
     },
     "execution_count": 6,
     "metadata": {},
     "output_type": "execute_result"
    }
   ],
   "source": [
    "def prime_checker(number):\n",
    "    steps = 0\n",
    "    divisor = 2\n",
    "    is_prime = True\n",
    "\n",
    "    # To check if the number is 2 or 3\n",
    "    if number in [2,3]:\n",
    "        steps += 1\n",
    "        is_prime = True\n",
    "\n",
    "    # To check if the number is even or less than 2\n",
    "    elif ((number % divisor) == 0) or (number <= 1) :\n",
    "        steps += 1\n",
    "        is_prime = False\n",
    "        \n",
    "    else:\n",
    "        # Looping through all odd numbers between 3 and the highest possible factor (n / 2)\n",
    "        for i in range(3,number//2 + 1,2):\n",
    "            steps += 1\n",
    "            divisor =  i\n",
    "            # To test if the guess is a factor \n",
    "            if (number % divisor) == 0:\n",
    "                is_prime = False\n",
    "                break\n",
    "            # To stop if the test is > the square root of the number because any greater factor will have been a multiplier of a smaller factor \n",
    "            if (divisor ** 2) > number:\n",
    "                break\n",
    "\n",
    "    \n",
    "    return is_prime,steps\n",
    "\n",
    "\n",
    "prime_checker(4447)"
   ]
  },
  {
   "cell_type": "code",
   "execution_count": null,
   "metadata": {},
   "outputs": [
    {
     "name": "stdout",
     "output_type": "stream",
     "text": [
      "2856\n"
     ]
    },
    {
     "name": "stdout",
     "output_type": "stream",
     "text": [
      "[0.875, 1.696629213483146, 3.1768631813125694, 6.574841649072119, 14.92067689640996]\n"
     ]
    }
   ],
   "source": [
    "import time\n",
    "\n",
    "one_digit_steps = 0\n",
    "one_digit_time = 0\n",
    "two_digit_steps = 0\n",
    "two_digit_time = 0\n",
    "three_digit_steps = 0\n",
    "three_digit_time = 0\n",
    "four_digit_steps = 0\n",
    "four_digit_time = 0\n",
    "five_digit_steps = 0\n",
    "five_digit_time = 0\n",
    "\n",
    "# Stopping at 5 digits because of the low performance of my CPU, feel free to push the limits of your CPU\n",
    "\n",
    "# six_digit_steps = 0\n",
    "# six_digit_time = 0\n",
    "# seven_digit_steps = 0\n",
    "# eight_digit_steps = 0\n",
    "\n",
    "\n",
    "# Getting the avg no of steps and duration for checking if a one digit number is prime\n",
    "case = []\n",
    "t1 = time.time()\n",
    "for i in range(1,9):\n",
    "    results = prime_checker(i)\n",
    "    case.append(results[1])\n",
    "    \n",
    "    one_digit_steps = sum(case) / len(case)\n",
    "t2 = time.time()\n",
    "one_digit_time = (t1 - t2) / len(case)\n",
    "\n",
    "# Getting the avg no of steps and duration for checking if a two digit number is prime\n",
    "case = []\n",
    "t1 = time.time()\n",
    "for i in range(10,99):\n",
    "    results = prime_checker(i)\n",
    "    case.append(results[1])\n",
    "    \n",
    "    two_digit_steps = sum(case) / len(case)\n",
    "t2 = time.time()\n",
    "two_digit_time = (t1 - t2) / len(case)\n",
    "\n",
    "# Getting the avg no of steps and duration for checking if a three digit number is prime\n",
    "case = []\n",
    "t1 = time.time()\n",
    "for i in range(100,999):\n",
    "    results = prime_checker(i)\n",
    "    case.append(results[1])\n",
    "\n",
    "    three_digit_steps = sum(case) / len(case)\n",
    "print(sum(case))\n",
    "t2 = time.time()\n",
    "three_digit_time = (t1 - t2) / len(case)\n",
    "\n",
    "# Getting the avg no of steps and duration for checking if a four digit number is prime\n",
    "case = []\n",
    "t1 = time.time()\n",
    "for i in range(1000,9999):\n",
    "    results = prime_checker(i)\n",
    "    case.append(results[1])\n",
    "    four_digit_steps = sum(case) / len(case)\n",
    "t2 = time.time()\n",
    "four_digit_time = (t1 - t2) / len(case)\n",
    "\n",
    "# Getting the avg no of steps and duration for checking if a five digit number is prime\n",
    "case = []\n",
    "t1 = time.time()\n",
    "for i in range(10000,99999):\n",
    "    results = prime_checker(i)\n",
    "    case.append(results[1])\n",
    "    five_digit_steps = sum(case) / len(case)\n",
    "t2 = time.time()\n",
    "five_digit_time = (t1 - t2) / len(case)\n",
    "\n",
    "case = []\n",
    "t1 = time.time()\n",
    "for i in range(100000,999999):\n",
    "    results = prime_checker(i)\n",
    "    case.append(results[1])\n",
    "    six_digit_steps = sum(case) / len(case)\n",
    "t1 = time.time()\n",
    "six_digit_time = (t1 - t2) / len(case)\n",
    "\n",
    "# case = []\n",
    "# for i in range(1000000,9999999):\n",
    "#     results = prime_checker(i)\n",
    "#     case.append(results[1])\n",
    "#     seven_digit_steps = sum(case) // len(case)\n",
    "\n",
    "# case = []\n",
    "# for i in range(10000000,99999999):\n",
    "#     results = prime_checker(i)\n",
    "#     case.append(results[1])\n",
    "#     eight_digit_steps = sum(case) // len(case)\n",
    "\n",
    "\n",
    "y_axis = [one_digit_steps,two_digit_steps,three_digit_steps,four_digit_steps,five_digit_steps]\n",
    "print(y_axis)\n",
    "\n",
    "\n"
   ]
  },
  {
   "cell_type": "markdown",
   "metadata": {},
   "source": [
    "# Plotting the graph of no of digits to the avg no of steps and avg duration to execute"
   ]
  },
  {
   "cell_type": "code",
   "execution_count": 1,
   "metadata": {},
   "outputs": [
    {
     "ename": "KeyboardInterrupt",
     "evalue": "",
     "output_type": "error",
     "traceback": [
      "\u001b[0;31m---------------------------------------------------------------------------\u001b[0m",
      "\u001b[0;31mKeyboardInterrupt\u001b[0m                         Traceback (most recent call last)",
      "Cell \u001b[0;32mIn[1], line 1\u001b[0m\n\u001b[0;32m----> 1\u001b[0m \u001b[38;5;28;01mimport\u001b[39;00m\u001b[38;5;250m \u001b[39m\u001b[38;5;21;01mmatplotlib\u001b[39;00m\u001b[38;5;21;01m.\u001b[39;00m\u001b[38;5;21;01mpyplot\u001b[39;00m\u001b[38;5;250m \u001b[39m\u001b[38;5;28;01mas\u001b[39;00m\u001b[38;5;250m \u001b[39m\u001b[38;5;21;01mplt\u001b[39;00m\n\u001b[1;32m      2\u001b[0m step_axis \u001b[38;5;241m=\u001b[39m [one_digit_steps,two_digit_steps,three_digit_steps,four_digit_steps,five_digit_steps,six_digit_steps]\n\u001b[1;32m      3\u001b[0m time_axis \u001b[38;5;241m=\u001b[39m [\u001b[38;5;241m-\u001b[39mone_digit_time \u001b[38;5;241m*\u001b[39m \u001b[38;5;241m10000\u001b[39m,\u001b[38;5;241m-\u001b[39mtwo_digit_time \u001b[38;5;241m*\u001b[39m \u001b[38;5;241m10000\u001b[39m,\u001b[38;5;241m-\u001b[39mthree_digit_time \u001b[38;5;241m*\u001b[39m \u001b[38;5;241m10000\u001b[39m,\u001b[38;5;241m-\u001b[39mfour_digit_time \u001b[38;5;241m*\u001b[39m \u001b[38;5;241m10000\u001b[39m,\u001b[38;5;241m-\u001b[39mfive_digit_time \u001b[38;5;241m*\u001b[39m \u001b[38;5;241m10000.\u001b[39m\u001b[38;5;241m-\u001b[39msix_digit_steps \u001b[38;5;241m*\u001b[39m \u001b[38;5;241m10000\u001b[39m]\n",
      "File \u001b[0;32m~/Desktop/Engineering/OAU/EEE 254/.venv/lib/python3.11/site-packages/matplotlib/__init__.py:1296\u001b[0m\n\u001b[1;32m   1292\u001b[0m     rcParams[\u001b[38;5;124m'\u001b[39m\u001b[38;5;124mbackend_fallback\u001b[39m\u001b[38;5;124m'\u001b[39m] \u001b[38;5;241m=\u001b[39m \u001b[38;5;28;01mFalse\u001b[39;00m\n\u001b[1;32m   1295\u001b[0m \u001b[38;5;28;01mif\u001b[39;00m os\u001b[38;5;241m.\u001b[39menviron\u001b[38;5;241m.\u001b[39mget(\u001b[38;5;124m'\u001b[39m\u001b[38;5;124mMPLBACKEND\u001b[39m\u001b[38;5;124m'\u001b[39m):\n\u001b[0;32m-> 1296\u001b[0m     \u001b[43mrcParams\u001b[49m\u001b[43m[\u001b[49m\u001b[38;5;124;43m'\u001b[39;49m\u001b[38;5;124;43mbackend\u001b[39;49m\u001b[38;5;124;43m'\u001b[39;49m\u001b[43m]\u001b[49m \u001b[38;5;241m=\u001b[39m os\u001b[38;5;241m.\u001b[39menviron\u001b[38;5;241m.\u001b[39mget(\u001b[38;5;124m'\u001b[39m\u001b[38;5;124mMPLBACKEND\u001b[39m\u001b[38;5;124m'\u001b[39m)\n\u001b[1;32m   1299\u001b[0m \u001b[38;5;28;01mdef\u001b[39;00m\u001b[38;5;250m \u001b[39m\u001b[38;5;21mget_backend\u001b[39m(\u001b[38;5;241m*\u001b[39m, auto_select\u001b[38;5;241m=\u001b[39m\u001b[38;5;28;01mTrue\u001b[39;00m):\n\u001b[1;32m   1300\u001b[0m \u001b[38;5;250m    \u001b[39m\u001b[38;5;124;03m\"\"\"\u001b[39;00m\n\u001b[1;32m   1301\u001b[0m \u001b[38;5;124;03m    Return the name of the current backend.\u001b[39;00m\n\u001b[1;32m   1302\u001b[0m \n\u001b[0;32m   (...)\u001b[0m\n\u001b[1;32m   1320\u001b[0m \u001b[38;5;124;03m    matplotlib.use\u001b[39;00m\n\u001b[1;32m   1321\u001b[0m \u001b[38;5;124;03m    \"\"\"\u001b[39;00m\n",
      "File \u001b[0;32m~/Desktop/Engineering/OAU/EEE 254/.venv/lib/python3.11/site-packages/matplotlib/__init__.py:769\u001b[0m, in \u001b[0;36mRcParams.__setitem__\u001b[0;34m(self, key, val)\u001b[0m\n\u001b[1;32m    767\u001b[0m             \u001b[38;5;28;01mreturn\u001b[39;00m\n\u001b[1;32m    768\u001b[0m \u001b[38;5;28;01mtry\u001b[39;00m:\n\u001b[0;32m--> 769\u001b[0m     cval \u001b[38;5;241m=\u001b[39m \u001b[38;5;28;43mself\u001b[39;49m\u001b[38;5;241;43m.\u001b[39;49m\u001b[43mvalidate\u001b[49m\u001b[43m[\u001b[49m\u001b[43mkey\u001b[49m\u001b[43m]\u001b[49m\u001b[43m(\u001b[49m\u001b[43mval\u001b[49m\u001b[43m)\u001b[49m\n\u001b[1;32m    770\u001b[0m \u001b[38;5;28;01mexcept\u001b[39;00m \u001b[38;5;167;01mValueError\u001b[39;00m \u001b[38;5;28;01mas\u001b[39;00m ve:\n\u001b[1;32m    771\u001b[0m     \u001b[38;5;28;01mraise\u001b[39;00m \u001b[38;5;167;01mValueError\u001b[39;00m(\u001b[38;5;124mf\u001b[39m\u001b[38;5;124m\"\u001b[39m\u001b[38;5;124mKey \u001b[39m\u001b[38;5;132;01m{\u001b[39;00mkey\u001b[38;5;132;01m}\u001b[39;00m\u001b[38;5;124m: \u001b[39m\u001b[38;5;132;01m{\u001b[39;00mve\u001b[38;5;132;01m}\u001b[39;00m\u001b[38;5;124m\"\u001b[39m) \u001b[38;5;28;01mfrom\u001b[39;00m\u001b[38;5;250m \u001b[39m\u001b[38;5;28;01mNone\u001b[39;00m\n",
      "File \u001b[0;32m~/Desktop/Engineering/OAU/EEE 254/.venv/lib/python3.11/site-packages/matplotlib/rcsetup.py:273\u001b[0m, in \u001b[0;36mvalidate_backend\u001b[0;34m(s)\u001b[0m\n\u001b[1;32m    272\u001b[0m \u001b[38;5;28;01mdef\u001b[39;00m\u001b[38;5;250m \u001b[39m\u001b[38;5;21mvalidate_backend\u001b[39m(s):\n\u001b[0;32m--> 273\u001b[0m     \u001b[38;5;28;01mif\u001b[39;00m s \u001b[38;5;129;01mis\u001b[39;00m _auto_backend_sentinel \u001b[38;5;129;01mor\u001b[39;00m \u001b[43mbackend_registry\u001b[49m\u001b[38;5;241;43m.\u001b[39;49m\u001b[43mis_valid_backend\u001b[49m\u001b[43m(\u001b[49m\u001b[43ms\u001b[49m\u001b[43m)\u001b[49m:\n\u001b[1;32m    274\u001b[0m         \u001b[38;5;28;01mreturn\u001b[39;00m s\n\u001b[1;32m    275\u001b[0m     \u001b[38;5;28;01melse\u001b[39;00m:\n",
      "File \u001b[0;32m~/Desktop/Engineering/OAU/EEE 254/.venv/lib/python3.11/site-packages/matplotlib/backends/registry.py:244\u001b[0m, in \u001b[0;36mBackendRegistry.is_valid_backend\u001b[0;34m(self, backend)\u001b[0m\n\u001b[1;32m    241\u001b[0m     \u001b[38;5;28;01mreturn\u001b[39;00m \u001b[38;5;28;01mTrue\u001b[39;00m\n\u001b[1;32m    243\u001b[0m \u001b[38;5;66;03m# Only load entry points if really need to and not already done so.\u001b[39;00m\n\u001b[0;32m--> 244\u001b[0m \u001b[38;5;28;43mself\u001b[39;49m\u001b[38;5;241;43m.\u001b[39;49m\u001b[43m_ensure_entry_points_loaded\u001b[49m\u001b[43m(\u001b[49m\u001b[43m)\u001b[49m\n\u001b[1;32m    245\u001b[0m \u001b[38;5;28;01mif\u001b[39;00m backend \u001b[38;5;129;01min\u001b[39;00m \u001b[38;5;28mself\u001b[39m\u001b[38;5;241m.\u001b[39m_backend_to_gui_framework:\n\u001b[1;32m    246\u001b[0m     \u001b[38;5;28;01mreturn\u001b[39;00m \u001b[38;5;28;01mTrue\u001b[39;00m\n",
      "File \u001b[0;32m~/Desktop/Engineering/OAU/EEE 254/.venv/lib/python3.11/site-packages/matplotlib/backends/registry.py:116\u001b[0m, in \u001b[0;36mBackendRegistry._ensure_entry_points_loaded\u001b[0;34m(self)\u001b[0m\n\u001b[1;32m    113\u001b[0m \u001b[38;5;28;01mdef\u001b[39;00m\u001b[38;5;250m \u001b[39m\u001b[38;5;21m_ensure_entry_points_loaded\u001b[39m(\u001b[38;5;28mself\u001b[39m):\n\u001b[1;32m    114\u001b[0m     \u001b[38;5;66;03m# Load entry points, if they have not already been loaded.\u001b[39;00m\n\u001b[1;32m    115\u001b[0m     \u001b[38;5;28;01mif\u001b[39;00m \u001b[38;5;129;01mnot\u001b[39;00m \u001b[38;5;28mself\u001b[39m\u001b[38;5;241m.\u001b[39m_loaded_entry_points:\n\u001b[0;32m--> 116\u001b[0m         entries \u001b[38;5;241m=\u001b[39m \u001b[38;5;28;43mself\u001b[39;49m\u001b[38;5;241;43m.\u001b[39;49m\u001b[43m_read_entry_points\u001b[49m\u001b[43m(\u001b[49m\u001b[43m)\u001b[49m\n\u001b[1;32m    117\u001b[0m         \u001b[38;5;28mself\u001b[39m\u001b[38;5;241m.\u001b[39m_validate_and_store_entry_points(entries)\n\u001b[1;32m    118\u001b[0m         \u001b[38;5;28mself\u001b[39m\u001b[38;5;241m.\u001b[39m_loaded_entry_points \u001b[38;5;241m=\u001b[39m \u001b[38;5;28;01mTrue\u001b[39;00m\n",
      "File \u001b[0;32m~/Desktop/Engineering/OAU/EEE 254/.venv/lib/python3.11/site-packages/matplotlib/backends/registry.py:136\u001b[0m, in \u001b[0;36mBackendRegistry._read_entry_points\u001b[0;34m(self)\u001b[0m\n\u001b[1;32m    128\u001b[0m \u001b[38;5;28;01mdef\u001b[39;00m\u001b[38;5;250m \u001b[39m\u001b[38;5;21m_read_entry_points\u001b[39m(\u001b[38;5;28mself\u001b[39m):\n\u001b[1;32m    129\u001b[0m     \u001b[38;5;66;03m# Read entry points of modules that self-advertise as Matplotlib backends.\u001b[39;00m\n\u001b[1;32m    130\u001b[0m     \u001b[38;5;66;03m# Expects entry points like this one from matplotlib-inline (in pyproject.toml\u001b[39;00m\n\u001b[1;32m    131\u001b[0m     \u001b[38;5;66;03m# format):\u001b[39;00m\n\u001b[1;32m    132\u001b[0m     \u001b[38;5;66;03m#   [project.entry-points.\"matplotlib.backend\"]\u001b[39;00m\n\u001b[1;32m    133\u001b[0m     \u001b[38;5;66;03m#   inline = \"matplotlib_inline.backend_inline\"\u001b[39;00m\n\u001b[1;32m    134\u001b[0m     \u001b[38;5;28;01mimport\u001b[39;00m\u001b[38;5;250m \u001b[39m\u001b[38;5;21;01mimportlib\u001b[39;00m\u001b[38;5;21;01m.\u001b[39;00m\u001b[38;5;21;01mmetadata\u001b[39;00m\u001b[38;5;250m \u001b[39m\u001b[38;5;28;01mas\u001b[39;00m\u001b[38;5;250m \u001b[39m\u001b[38;5;21;01mim\u001b[39;00m\n\u001b[0;32m--> 136\u001b[0m     entry_points \u001b[38;5;241m=\u001b[39m \u001b[43mim\u001b[49m\u001b[38;5;241;43m.\u001b[39;49m\u001b[43mentry_points\u001b[49m\u001b[43m(\u001b[49m\u001b[43mgroup\u001b[49m\u001b[38;5;241;43m=\u001b[39;49m\u001b[38;5;124;43m\"\u001b[39;49m\u001b[38;5;124;43mmatplotlib.backend\u001b[39;49m\u001b[38;5;124;43m\"\u001b[39;49m\u001b[43m)\u001b[49m\n\u001b[1;32m    137\u001b[0m     entries \u001b[38;5;241m=\u001b[39m [(entry\u001b[38;5;241m.\u001b[39mname, entry\u001b[38;5;241m.\u001b[39mvalue) \u001b[38;5;28;01mfor\u001b[39;00m entry \u001b[38;5;129;01min\u001b[39;00m entry_points]\n\u001b[1;32m    139\u001b[0m     \u001b[38;5;66;03m# For backward compatibility, if matplotlib-inline and/or ipympl are installed\u001b[39;00m\n\u001b[1;32m    140\u001b[0m     \u001b[38;5;66;03m# but too old to include entry points, create them. Do not import ipympl\u001b[39;00m\n\u001b[1;32m    141\u001b[0m     \u001b[38;5;66;03m# directly as this calls matplotlib.use() whilst in this function.\u001b[39;00m\n",
      "File \u001b[0;32m/usr/lib/python3.11/importlib/metadata/__init__.py:1040\u001b[0m, in \u001b[0;36mentry_points\u001b[0;34m(**params)\u001b[0m\n\u001b[1;32m   1021\u001b[0m \u001b[38;5;250m\u001b[39m\u001b[38;5;124;03m\"\"\"Return EntryPoint objects for all installed packages.\u001b[39;00m\n\u001b[1;32m   1022\u001b[0m \n\u001b[1;32m   1023\u001b[0m \u001b[38;5;124;03mPass selection parameters (group or name) to filter the\u001b[39;00m\n\u001b[0;32m   (...)\u001b[0m\n\u001b[1;32m   1035\u001b[0m \u001b[38;5;124;03m:return: EntryPoints or SelectableGroups for all installed packages.\u001b[39;00m\n\u001b[1;32m   1036\u001b[0m \u001b[38;5;124;03m\"\"\"\u001b[39;00m\n\u001b[1;32m   1037\u001b[0m eps \u001b[38;5;241m=\u001b[39m itertools\u001b[38;5;241m.\u001b[39mchain\u001b[38;5;241m.\u001b[39mfrom_iterable(\n\u001b[1;32m   1038\u001b[0m     dist\u001b[38;5;241m.\u001b[39mentry_points \u001b[38;5;28;01mfor\u001b[39;00m dist \u001b[38;5;129;01min\u001b[39;00m _unique(distributions())\n\u001b[1;32m   1039\u001b[0m )\n\u001b[0;32m-> 1040\u001b[0m \u001b[38;5;28;01mreturn\u001b[39;00m \u001b[43mSelectableGroups\u001b[49m\u001b[38;5;241;43m.\u001b[39;49m\u001b[43mload\u001b[49m\u001b[43m(\u001b[49m\u001b[43meps\u001b[49m\u001b[43m)\u001b[49m\u001b[38;5;241m.\u001b[39mselect(\u001b[38;5;241m*\u001b[39m\u001b[38;5;241m*\u001b[39mparams)\n",
      "File \u001b[0;32m/usr/lib/python3.11/importlib/metadata/__init__.py:476\u001b[0m, in \u001b[0;36mSelectableGroups.load\u001b[0;34m(cls, eps)\u001b[0m\n\u001b[1;32m    473\u001b[0m \u001b[38;5;129m@classmethod\u001b[39m\n\u001b[1;32m    474\u001b[0m \u001b[38;5;28;01mdef\u001b[39;00m\u001b[38;5;250m \u001b[39m\u001b[38;5;21mload\u001b[39m(\u001b[38;5;28mcls\u001b[39m, eps):\n\u001b[1;32m    475\u001b[0m     by_group \u001b[38;5;241m=\u001b[39m operator\u001b[38;5;241m.\u001b[39mattrgetter(\u001b[38;5;124m'\u001b[39m\u001b[38;5;124mgroup\u001b[39m\u001b[38;5;124m'\u001b[39m)\n\u001b[0;32m--> 476\u001b[0m     ordered \u001b[38;5;241m=\u001b[39m \u001b[38;5;28;43msorted\u001b[39;49m\u001b[43m(\u001b[49m\u001b[43meps\u001b[49m\u001b[43m,\u001b[49m\u001b[43m \u001b[49m\u001b[43mkey\u001b[49m\u001b[38;5;241;43m=\u001b[39;49m\u001b[43mby_group\u001b[49m\u001b[43m)\u001b[49m\n\u001b[1;32m    477\u001b[0m     grouped \u001b[38;5;241m=\u001b[39m itertools\u001b[38;5;241m.\u001b[39mgroupby(ordered, by_group)\n\u001b[1;32m    478\u001b[0m     \u001b[38;5;28;01mreturn\u001b[39;00m \u001b[38;5;28mcls\u001b[39m((group, EntryPoints(eps)) \u001b[38;5;28;01mfor\u001b[39;00m group, eps \u001b[38;5;129;01min\u001b[39;00m grouped)\n",
      "File \u001b[0;32m/usr/lib/python3.11/importlib/metadata/__init__.py:1038\u001b[0m, in \u001b[0;36m<genexpr>\u001b[0;34m(.0)\u001b[0m\n\u001b[1;32m   1020\u001b[0m \u001b[38;5;28;01mdef\u001b[39;00m\u001b[38;5;250m \u001b[39m\u001b[38;5;21mentry_points\u001b[39m(\u001b[38;5;241m*\u001b[39m\u001b[38;5;241m*\u001b[39mparams) \u001b[38;5;241m-\u001b[39m\u001b[38;5;241m>\u001b[39m Union[EntryPoints, SelectableGroups]:\n\u001b[1;32m   1021\u001b[0m \u001b[38;5;250m    \u001b[39m\u001b[38;5;124;03m\"\"\"Return EntryPoint objects for all installed packages.\u001b[39;00m\n\u001b[1;32m   1022\u001b[0m \n\u001b[1;32m   1023\u001b[0m \u001b[38;5;124;03m    Pass selection parameters (group or name) to filter the\u001b[39;00m\n\u001b[0;32m   (...)\u001b[0m\n\u001b[1;32m   1035\u001b[0m \u001b[38;5;124;03m    :return: EntryPoints or SelectableGroups for all installed packages.\u001b[39;00m\n\u001b[1;32m   1036\u001b[0m \u001b[38;5;124;03m    \"\"\"\u001b[39;00m\n\u001b[1;32m   1037\u001b[0m     eps \u001b[38;5;241m=\u001b[39m itertools\u001b[38;5;241m.\u001b[39mchain\u001b[38;5;241m.\u001b[39mfrom_iterable(\n\u001b[0;32m-> 1038\u001b[0m         \u001b[43mdist\u001b[49m\u001b[38;5;241;43m.\u001b[39;49m\u001b[43mentry_points\u001b[49m \u001b[38;5;28;01mfor\u001b[39;00m dist \u001b[38;5;129;01min\u001b[39;00m _unique(distributions())\n\u001b[1;32m   1039\u001b[0m     )\n\u001b[1;32m   1040\u001b[0m     \u001b[38;5;28;01mreturn\u001b[39;00m SelectableGroups\u001b[38;5;241m.\u001b[39mload(eps)\u001b[38;5;241m.\u001b[39mselect(\u001b[38;5;241m*\u001b[39m\u001b[38;5;241m*\u001b[39mparams)\n",
      "File \u001b[0;32m/usr/lib/python3.11/importlib/metadata/__init__.py:636\u001b[0m, in \u001b[0;36mDistribution.entry_points\u001b[0;34m(self)\u001b[0m\n\u001b[1;32m    634\u001b[0m \u001b[38;5;129m@property\u001b[39m\n\u001b[1;32m    635\u001b[0m \u001b[38;5;28;01mdef\u001b[39;00m\u001b[38;5;250m \u001b[39m\u001b[38;5;21mentry_points\u001b[39m(\u001b[38;5;28mself\u001b[39m):\n\u001b[0;32m--> 636\u001b[0m     \u001b[38;5;28;01mreturn\u001b[39;00m EntryPoints\u001b[38;5;241m.\u001b[39m_from_text_for(\u001b[38;5;28;43mself\u001b[39;49m\u001b[38;5;241;43m.\u001b[39;49m\u001b[43mread_text\u001b[49m\u001b[43m(\u001b[49m\u001b[38;5;124;43m'\u001b[39;49m\u001b[38;5;124;43mentry_points.txt\u001b[39;49m\u001b[38;5;124;43m'\u001b[39;49m\u001b[43m)\u001b[49m, \u001b[38;5;28mself\u001b[39m)\n",
      "File \u001b[0;32m/usr/lib/python3.11/importlib/metadata/__init__.py:938\u001b[0m, in \u001b[0;36mPathDistribution.read_text\u001b[0;34m(self, filename)\u001b[0m\n\u001b[1;32m    930\u001b[0m \u001b[38;5;28;01mdef\u001b[39;00m\u001b[38;5;250m \u001b[39m\u001b[38;5;21mread_text\u001b[39m(\u001b[38;5;28mself\u001b[39m, filename):\n\u001b[1;32m    931\u001b[0m     \u001b[38;5;28;01mwith\u001b[39;00m suppress(\n\u001b[1;32m    932\u001b[0m         \u001b[38;5;167;01mFileNotFoundError\u001b[39;00m,\n\u001b[1;32m    933\u001b[0m         \u001b[38;5;167;01mIsADirectoryError\u001b[39;00m,\n\u001b[0;32m   (...)\u001b[0m\n\u001b[1;32m    936\u001b[0m         \u001b[38;5;167;01mPermissionError\u001b[39;00m,\n\u001b[1;32m    937\u001b[0m     ):\n\u001b[0;32m--> 938\u001b[0m         \u001b[38;5;28;01mreturn\u001b[39;00m \u001b[38;5;28;43mself\u001b[39;49m\u001b[38;5;241;43m.\u001b[39;49m\u001b[43m_path\u001b[49m\u001b[38;5;241;43m.\u001b[39;49m\u001b[43mjoinpath\u001b[49m\u001b[43m(\u001b[49m\u001b[43mfilename\u001b[49m\u001b[43m)\u001b[49m\u001b[38;5;241;43m.\u001b[39;49m\u001b[43mread_text\u001b[49m\u001b[43m(\u001b[49m\u001b[43mencoding\u001b[49m\u001b[38;5;241;43m=\u001b[39;49m\u001b[38;5;124;43m'\u001b[39;49m\u001b[38;5;124;43mutf-8\u001b[39;49m\u001b[38;5;124;43m'\u001b[39;49m\u001b[43m)\u001b[49m\n",
      "File \u001b[0;32m/usr/lib/python3.11/pathlib.py:1060\u001b[0m, in \u001b[0;36mPath.read_text\u001b[0;34m(self, encoding, errors)\u001b[0m\n\u001b[1;32m   1058\u001b[0m encoding \u001b[38;5;241m=\u001b[39m io\u001b[38;5;241m.\u001b[39mtext_encoding(encoding)\n\u001b[1;32m   1059\u001b[0m \u001b[38;5;28;01mwith\u001b[39;00m \u001b[38;5;28mself\u001b[39m\u001b[38;5;241m.\u001b[39mopen(mode\u001b[38;5;241m=\u001b[39m\u001b[38;5;124m'\u001b[39m\u001b[38;5;124mr\u001b[39m\u001b[38;5;124m'\u001b[39m, encoding\u001b[38;5;241m=\u001b[39mencoding, errors\u001b[38;5;241m=\u001b[39merrors) \u001b[38;5;28;01mas\u001b[39;00m f:\n\u001b[0;32m-> 1060\u001b[0m     \u001b[38;5;28;01mreturn\u001b[39;00m f\u001b[38;5;241m.\u001b[39mread()\n",
      "File \u001b[0;32m<frozen codecs>:319\u001b[0m, in \u001b[0;36mdecode\u001b[0;34m(self, input, final)\u001b[0m\n",
      "\u001b[0;31mKeyboardInterrupt\u001b[0m: "
     ]
    }
   ],
   "source": [
    "import matplotlib.pyplot as plt\n",
    "step_axis = [one_digit_steps,two_digit_steps,three_digit_steps,four_digit_steps,five_digit_steps,six_digit_steps]\n",
    "time_axis = [-one_digit_time * 10000,-two_digit_time * 10000,-three_digit_time * 10000,-four_digit_time * 10000,-five_digit_time * 10000.-six_digit_steps * 10000]\n",
    "plt.plot([1,2,3,4,5],time_axis,'r',[1,2,3,4,5],step_axis,'blue')\n",
    "plt.title = \"Graph of no of digits to the avg no of steps and avg duration to execute\"\n",
    "plt.xlabel(\"Number of digits\")\n",
    "plt.legend([\"Time(x0.1ms)\",\"Steps\"])\n"
   ]
  },
  {
   "cell_type": "markdown",
   "metadata": {},
   "source": [
    "## Getting sum of prime numbers between 3 and 1000\n"
   ]
  },
  {
   "cell_type": "code",
   "execution_count": 1,
   "metadata": {},
   "outputs": [
    {
     "name": "stderr",
     "output_type": "stream",
     "text": [
      "\n",
      "KeyboardInterrupt\n",
      "\n"
     ]
    }
   ],
   "source": [
    "steps = []\n",
    "primes = []\n",
    "\n",
    "# Looping through every digit between 3 and 1000\n",
    "for i in range(3,1000):\n",
    "    results = prime_checker(i)\n",
    "    steps.append(results[1])\n",
    "    # Adding the digit to the cumulative sum if the digit is prime\n",
    "    if(results[0]):\n",
    "        primes.append(i)\n",
    "\n",
    "print(sum(primes))\n",
    "print(sum(steps))"
   ]
  }
 ],
 "metadata": {
  "kernelspec": {
   "display_name": ".venv",
   "language": "python",
   "name": "python3"
  },
  "language_info": {
   "codemirror_mode": {
    "name": "ipython",
    "version": 3
   },
   "file_extension": ".py",
   "mimetype": "text/x-python",
   "name": "python",
   "nbconvert_exporter": "python",
   "pygments_lexer": "ipython3",
   "version": "3.11.2"
  }
 },
 "nbformat": 4,
 "nbformat_minor": 2
}

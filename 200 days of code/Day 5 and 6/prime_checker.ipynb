{
 "cells": [
  {
   "cell_type": "markdown",
   "metadata": {},
   "source": [
    "## Primality Check Function"
   ]
  },
  {
   "cell_type": "code",
   "execution_count": null,
   "metadata": {},
   "outputs": [
    {
     "data": {
      "text/plain": [
       "(True, 33)"
      ]
     },
     "execution_count": 3,
     "metadata": {},
     "output_type": "execute_result"
    }
   ],
   "source": [
    "def prime_checker(number):\n",
    "    steps = 0\n",
    "    divisor = 2\n",
    "    is_prime = True\n",
    "\n",
    "    # To check if the number is 2 or 3\n",
    "    if number in [2,3]:\n",
    "        steps += 1\n",
    "        is_prime = True\n",
    "\n",
    "    # To check if the number is even or less than 2\n",
    "    elif ((number % divisor) == 0) or (number <= 1) :\n",
    "        steps += 1\n",
    "        is_prime = False\n",
    "        \n",
    "    else:\n",
    "        # Looping through all odd numbers between 3 and the highest possible non repeating factor (n / 2)\n",
    "        for i in range(3,int(number ** 0.5) + 1,2):\n",
    "            steps += 1\n",
    "            divisor =  i\n",
    "            # To test if the guess is a factor \n",
    "            if (number % divisor) == 0:\n",
    "                is_prime = False\n",
    "                break\n",
    "           \n",
    "\n",
    "    \n",
    "    return is_prime,steps\n",
    "\n",
    "\n",
    "prime_checker(4447)"
   ]
  },
  {
   "cell_type": "code",
   "execution_count": 7,
   "metadata": {},
   "outputs": [
    {
     "name": "stdout",
     "output_type": "stream",
     "text": [
      "2856\n",
      "[0.875, 1.696629213483146, 3.1768631813125694, 6.574841649072119, 14.92067689640996]\n"
     ]
    }
   ],
   "source": [
    "import time\n",
    "\n",
    "one_digit_steps = 0\n",
    "one_digit_time = 0\n",
    "two_digit_steps = 0\n",
    "two_digit_time = 0\n",
    "three_digit_steps = 0\n",
    "three_digit_time = 0\n",
    "four_digit_steps = 0\n",
    "four_digit_time = 0\n",
    "five_digit_steps = 0\n",
    "five_digit_time = 0\n",
    "\n",
    "# Stopping at 5 digits because of the low performance of my CPU, feel free to push the limits of your CPU\n",
    "\n",
    "# six_digit_steps = 0\n",
    "# six_digit_time = 0\n",
    "# seven_digit_steps = 0\n",
    "# eight_digit_steps = 0\n",
    "\n",
    "\n",
    "# Getting the avg no of steps and duration for checking if a one digit number is prime\n",
    "case = []\n",
    "t1 = time.time()\n",
    "for i in range(1,9):\n",
    "    results = prime_checker(i)\n",
    "    case.append(results[1])\n",
    "    \n",
    "one_digit_steps = sum(case) / len(case)\n",
    "t2 = time.time()\n",
    "one_digit_time = (t2 - t1) / len(case)\n",
    "\n",
    "# Getting the avg no of steps and duration for checking if a two digit number is prime\n",
    "case = []\n",
    "t1 = time.time()\n",
    "for i in range(10,99):\n",
    "    results = prime_checker(i)\n",
    "    case.append(results[1])\n",
    "    \n",
    "two_digit_steps = sum(case) / len(case)\n",
    "t2 = time.time()\n",
    "two_digit_time = (t2 - t1) / len(case)\n",
    "\n",
    "# Getting the avg no of steps and duration for checking if a three digit number is prime\n",
    "case = []\n",
    "t1 = time.time()\n",
    "for i in range(100,999):\n",
    "    results = prime_checker(i)\n",
    "    case.append(results[1])\n",
    "\n",
    "three_digit_steps = sum(case) / len(case)\n",
    "print(sum(case))\n",
    "t2 = time.time()\n",
    "three_digit_time = (t2 - t1) / len(case)\n",
    "\n",
    "# Getting the avg no of steps and duration for checking if a four digit number is prime\n",
    "case = []\n",
    "t1 = time.time()\n",
    "for i in range(1000,9999):\n",
    "    results = prime_checker(i)\n",
    "    case.append(results[1])\n",
    "four_digit_steps = sum(case) / len(case)\n",
    "t2 = time.time()\n",
    "four_digit_time = (t2 - t1) / len(case)\n",
    "\n",
    "# Getting the avg no of steps and duration for checking if a five digit number is prime\n",
    "case = []\n",
    "t1 = time.time()\n",
    "for i in range(10000,99999):\n",
    "    results = prime_checker(i)\n",
    "    case.append(results[1])\n",
    "five_digit_steps = sum(case) / len(case)\n",
    "t2 = time.time()\n",
    "five_digit_time = (t2 - t1) / len(case)\n",
    "\n",
    "# case = []\n",
    "# t1 = time.time()\n",
    "# for i in range(100000,999999):\n",
    "#     results = prime_checker(i)\n",
    "#     case.append(results[1])\n",
    "# six_digit_steps = sum(case) / len(case)\n",
    "# t1 = time.time()\n",
    "# six_digit_time = (t2 - t1) / len(case)\n",
    "\n",
    "# case = []\n",
    "# for i in range(1000000,9999999):\n",
    "#     results = prime_checker(i)\n",
    "#     case.append(results[1])\n",
    "# seven_digit_steps = sum(case) // len(case)\n",
    "\n",
    "# case = []\n",
    "# for i in range(10000000,99999999):\n",
    "#     results = prime_checker(i)\n",
    "#     case.append(results[1])\n",
    "# eight_digit_steps = sum(case) // len(case)\n",
    "\n",
    "\n",
    "y_axis = [one_digit_steps,two_digit_steps,three_digit_steps,four_digit_steps,five_digit_steps]\n",
    "print(y_axis)\n",
    "\n",
    "\n"
   ]
  },
  {
   "cell_type": "markdown",
   "metadata": {},
   "source": [
    "# Plotting the graph of no of digits to the avg no of steps and avg duration to execute"
   ]
  },
  {
   "cell_type": "code",
   "execution_count": 8,
   "metadata": {},
   "outputs": [
    {
     "data": {
      "text/plain": [
       "<matplotlib.legend.Legend at 0x7f92a8236e50>"
      ]
     },
     "execution_count": 8,
     "metadata": {},
     "output_type": "execute_result"
    },
    {
     "data": {
      "image/png": "[encoded data removed]",
      "text/plain": [
       "<Figure size 640x480 with 1 Axes>"
      ]
     },
     "metadata": {},
     "output_type": "display_data"
    }
   ],
   "source": [
    "import matplotlib.pyplot as plt\n",
    "step_axis = [one_digit_steps,two_digit_steps,three_digit_steps,four_digit_steps,five_digit_steps]\n",
    "time_axis = [one_digit_time * 10000,two_digit_time * 10000,three_digit_time * 10000,four_digit_time * 10000,five_digit_time * 10000]\n",
    "plt.plot([1,2,3,4,5],time_axis,'r',[1,2,3,4,5],step_axis,'blue')\n",
    "plt.title = \"Graph of no of digits to the avg no of steps and avg duration to execute\"\n",
    "plt.xlabel(\"Number of digits\")\n",
    "plt.legend([\"Time(x0.1ms)\",\"Steps\"])\n"
   ]
  },
  {
   "cell_type": "markdown",
   "metadata": {},
   "source": [
    "## Getting sum of prime numbers between 3 and 1000\n"
   ]
  },
  {
   "cell_type": "code",
   "execution_count": null,
   "metadata": {},
   "outputs": [
    {
     "name": "stderr",
     "output_type": "stream",
     "text": [
      "\n",
      "KeyboardInterrupt\n",
      "\n"
     ]
    }
   ],
   "source": [
    "steps = []\n",
    "primes = []\n",
    "\n",
    "# Looping through every digit between 3 and 1000\n",
    "for i in range(3,1000):\n",
    "    results = prime_checker(i)\n",
    "    steps.append(results[1])\n",
    "    # Adding the digit to the cumulative sum if the digit is prime\n",
    "    if(results[0]):\n",
    "        primes.append(i)\n",
    "\n",
    "print(sum(primes))\n",
    "print(sum(steps))"
   ]
  }
 ],
 "metadata": {
  "kernelspec": {
   "display_name": ".venv",
   "language": "python",
   "name": "python3"
  },
  "language_info": {
   "codemirror_mode": {
    "name": "ipython",
    "version": 3
   },
   "file_extension": ".py",
   "mimetype": "text/x-python",
   "name": "python",
   "nbconvert_exporter": "python",
   "pygments_lexer": "ipython3",
   "version": "3.11.2"
  }
 },
 "nbformat": 4,
 "nbformat_minor": 2
}

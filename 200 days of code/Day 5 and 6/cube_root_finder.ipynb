{
 "cells": [
  {
   "cell_type": "markdown",
   "metadata": {},
   "source": [
    "# Cube root finder function"
   ]
  },
  {
   "cell_type": "code",
   "execution_count": null,
   "metadata": {},
   "outputs": [
    {
     "name": "stdout",
     "output_type": "stream",
     "text": [
      "(1.259765625, 15)\n"
     ]
    }
   ],
   "source": [
    "\n",
    "def cube_root(number):\n",
    "\n",
    "    steps = 0\n",
    "    increment = 1\n",
    "    epsilon = 0.001 # Decrease the value of epsilon for better accuracy\n",
    "\n",
    "    # Checking if the number is  positive or negative\n",
    "    if number >= 0:\n",
    "\n",
    "        guess = 1\n",
    "\n",
    "        while (abs((guess ** 3) - number) >= epsilon) :\n",
    "            steps += 1\n",
    "            # Checking if the guess is greater or less than the cube root of the number\n",
    "            if (guess ** 3) > number:\n",
    "                increment = increment / 2\n",
    "                guess -= increment\n",
    "            elif (guess ** 3) < number:\n",
    "                increment = increment * 2\n",
    "                guess += increment\n",
    "\n",
    "    else:\n",
    "\n",
    "        guess = -1\n",
    "\n",
    "        while (abs((guess ** 3) - number) >= epsilon) :\n",
    "            steps += 1\n",
    "            # Checking if the guess is greater or less than the cube root of the number\n",
    "            if (guess ** 3) > number:\n",
    "                increment = increment * 2\n",
    "                guess -= increment\n",
    "            elif (guess ** 3) < number:\n",
    "                increment = increment / 2\n",
    "                guess += increment\n",
    "                \n",
    "    return guess,steps\n",
    "\n",
    "# To reject non-numerical values            \n",
    "try:\n",
    "    number = int(input(\"Number: \"))\n",
    "    print(cube_root(number))\n",
    "\n",
    "except ValueError:\n",
    "        print(\"Input must be a numerical value\")\n",
    "                \n",
    "\n"
   ]
  },
  {
   "cell_type": "code",
   "execution_count": 2,
   "metadata": {},
   "outputs": [
    {
     "name": "stdout",
     "output_type": "stream",
     "text": [
      "[13.125, 23.0, 30.767519466073416, 38.31203467051895, 46.245480505338946]\n"
     ]
    }
   ],
   "source": [
    "import time\n",
    "\n",
    "one_digit_steps = 0\n",
    "one_digit_time = 0\n",
    "two_digit_steps = 0\n",
    "two_digit_time = 0\n",
    "three_digit_steps = 0\n",
    "three_digit_time = 0\n",
    "four_digit_steps = 0\n",
    "four_digit_time = 0\n",
    "five_digit_steps = 0\n",
    "five_digit_time = 0\n",
    "six_digit_steps = 0\n",
    "six_digit_time = 0\n",
    "# seven_digit_steps = 0\n",
    "# eight_digit_steps = 0\n",
    "\n",
    "\n",
    "case = []\n",
    "t1 = time.time()\n",
    "for i in range(1,9):\n",
    "    results = cube_root(i)\n",
    "    case.append(results[1])\n",
    "    \n",
    "    one_digit_steps = sum(case) / len(case)\n",
    "t2 = time.time()\n",
    "one_digit_time = (t2 - t1) / len(case)\n",
    "\n",
    "\n",
    "case = []\n",
    "t1 = time.time()\n",
    "for i in range(10,99):\n",
    "    results = cube_root(i)\n",
    "    case.append(results[1])\n",
    "    \n",
    "    two_digit_steps = sum(case) / len(case)\n",
    "t2 = time.time()\n",
    "two_digit_time = (t2 - t1) / len(case)\n",
    "\n",
    "case = []\n",
    "t1 = time.time()\n",
    "for i in range(100,999):\n",
    "    results = cube_root(i)\n",
    "    case.append(results[1])\n",
    "\n",
    "    three_digit_steps = sum(case) / len(case)\n",
    "\n",
    "t2 = time.time()\n",
    "three_digit_time = (t2 - t1) / len(case)\n",
    "\n",
    "case = []\n",
    "t1 = time.time()\n",
    "for i in range(1000,9999):\n",
    "    results = cube_root(i)\n",
    "    case.append(results[1])\n",
    "    four_digit_steps = sum(case) / len(case)\n",
    "t2 = time.time()\n",
    "four_digit_time = (t2 - t1) / len(case)\n",
    "\n",
    "case = []\n",
    "t1 = time.time()\n",
    "for i in range(10000,99999):\n",
    "    results = cube_root(i)\n",
    "    case.append(results[1])\n",
    "    five_digit_steps = sum(case) / len(case)\n",
    "t2 = time.time()\n",
    "five_digit_time = (t2 - t1) / len(case)\n",
    "\n",
    "# case = []\n",
    "# t1 = time.time()\n",
    "# for i in range(100000,999999):\n",
    "#     results = cube_root(i)\n",
    "#     case.append(results[1])\n",
    "#     six_digit_steps = sum(case) / len(case)\n",
    "# t2 = time.time()\n",
    "# six_digit_time = (t2 - t1) / len(case)\n",
    "\n",
    "# case = []\n",
    "# for i in range(1000000,9999999):\n",
    "#     results = cube_root(i)\n",
    "#     case.append(results[1])\n",
    "#     seven_digit_steps = sum(case) // len(case)\n",
    "\n",
    "# case = []\n",
    "# for i in range(10000000,99999999):\n",
    "#     results = cube_root(i)\n",
    "#     case.append(results[1])\n",
    "#     eight_digit_steps = sum(case) // len(case)\n",
    "\n",
    "\n",
    "y_axis = [one_digit_steps,two_digit_steps,three_digit_steps,four_digit_steps,five_digit_steps]\n",
    "print(y_axis)\n",
    "\n",
    "\n"
   ]
  },
  {
   "cell_type": "code",
   "execution_count": 3,
   "metadata": {},
   "outputs": [
    {
     "data": {
      "text/plain": [
       "<matplotlib.legend.Legend at 0x7f48b0bb5e90>"
      ]
     },
     "execution_count": 3,
     "metadata": {},
     "output_type": "execute_result"
    },
    {
     "data": {
      "image/png": "[encoded data removed]",
      "text/plain": [
       "<Figure size 640x480 with 1 Axes>"
      ]
     },
     "metadata": {},
     "output_type": "display_data"
    }
   ],
   "source": [
    "import matplotlib.pyplot as plt\n",
    "step_axis = [one_digit_steps,two_digit_steps,three_digit_steps,four_digit_steps,five_digit_steps]\n",
    "time_axis = [one_digit_time * 10000,two_digit_time * 10000,three_digit_time * 10000,four_digit_time * 10000,five_digit_time * 10000]\n",
    "plt.plot([1,2,3,4,5],time_axis,'r',[1,2,3,4,5],step_axis,'blue')\n",
    "plt.xlabel(\"Number of digits\")\n",
    "plt.legend([\"Time(x0.1ms)\",\"Steps\"])\n"
   ]
  }
 ],
 "metadata": {
  "kernelspec": {
   "display_name": ".venv",
   "language": "python",
   "name": "python3"
  },
  "language_info": {
   "codemirror_mode": {
    "name": "ipython",
    "version": 3
   },
   "file_extension": ".py",
   "mimetype": "text/x-python",
   "name": "python",
   "nbconvert_exporter": "python",
   "pygments_lexer": "ipython3",
   "version": "3.11.2"
  }
 },
 "nbformat": 4,
 "nbformat_minor": 2
}

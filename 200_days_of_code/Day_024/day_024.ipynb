{
 "cells": [
  {
   "cell_type": "code",
   "execution_count": null,
   "id": "a22f6df6",
   "metadata": {},
   "outputs": [],
   "source": [
    "import datetime\n",
    "class Person(object):\n",
    "    def init(self, name): # To initialize a new instance of the object\n",
    "        self._name = name\n",
    "        try: \n",
    "            last_blank = name.rindex(' ')\n",
    "            self._last_name = name[last_blank+1:]\n",
    "        except:\n",
    "            self._last_name = name\n",
    "        self._birthday = None\n",
    "\n",
    "    def get_name(self):\n",
    "        return self._name\n",
    "\n",
    "    def get_last_name(self):\n",
    "        return self._last_name\n",
    "\n",
    "    def set_birthday(self, birthdate):\n",
    "        self._birthday = birthdate\n",
    "\n",
    "    def get_age(self):\n",
    "        if self._birthday is None:\n",
    "            raise ValueError\n",
    "        return (datetime.date.today() - self._birthday).days\n",
    "\n",
    "    def lt(self, other):\n",
    "        if self._last_name == other._last_name:\n",
    "            return self._name < other._name\n",
    "        return self._last_name < other._last_name\n",
    "\n",
    "    def str(self):\n",
    "        return self._name"
   ]
  }
 ],
 "metadata": {
  "language_info": {
   "name": "python"
  }
 },
 "nbformat": 4,
 "nbformat_minor": 5
}

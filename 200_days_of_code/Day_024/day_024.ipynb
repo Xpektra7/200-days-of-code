{
 "cells": [
  {
   "cell_type": "code",
   "execution_count": null,
   "id": "a22f6df6",
   "metadata": {},
   "outputs": [],
   "source": [
    "import datetime\n",
    "class Person(object):\n",
    "    def init(self, name): # To initialize a new instance of the object\n",
    "        self._name = name\n",
    "        try: \n",
    "            last_blank = name.rindex(' ') # Checks if there is a space in the name\n",
    "            self._last_name = name[last_blank+1:] # If there is a space, it takes the last name\n",
    "        except: # If there is no space, it takes the whole name as the last name\n",
    "            self._last_name = name\n",
    "        self._birthday = None\n",
    "\n",
    "    def get_name(self): # Function that returns the name\n",
    "        return self._name\n",
    "\n",
    "    def get_last_name(self): # Function that returns the last name\n",
    "        return self._last_name\n",
    "\n",
    "    def set_birthday(self, birthdate): # Function that takes in an argument and sets it as the birthday\n",
    "        self._birthday = birthdate\n",
    "\n",
    "    def get_age(self): # Function that returns the age  \n",
    "        if self._birthday is None:\n",
    "            raise ValueError\n",
    "        return (datetime.date.today() - self._birthday).days\n",
    "\n",
    "    def lt(self, other): # Function that checks if the name of this instance will appear before the name of another instance when arranged alphabetically\n",
    "        if self._last_name == other._last_name: # If the last names are the same, it compares the first names\n",
    "            return self._name < other._name\n",
    "        return self._last_name < other._last_name\n",
    "\n",
    "    def str(self): # Returns the name of the instance\n",
    "        return self._name"
   ]
  },
  {
   "cell_type": "code",
   "execution_count": 7,
   "id": "53ae9f21",
   "metadata": {},
   "outputs": [
    {
     "name": "stdout",
     "output_type": "stream",
     "text": [
      "False\n"
     ]
    }
   ],
   "source": [
    "print('Imranhhhhh' < 'Imran 1') # This will return False"
   ]
  }
 ],
 "metadata": {
  "kernelspec": {
   "display_name": ".venv",
   "language": "python",
   "name": "python3"
  },
  "language_info": {
   "codemirror_mode": {
    "name": "ipython",
    "version": 3
   },
   "file_extension": ".py",
   "mimetype": "text/x-python",
   "name": "python",
   "nbconvert_exporter": "python",
   "pygments_lexer": "ipython3",
   "version": "3.11.2"
  }
 },
 "nbformat": 4,
 "nbformat_minor": 5
}

{
 "cells": [
  {
   "cell_type": "markdown",
   "id": "b7d58941",
   "metadata": {},
   "source": [
    "# Modularization\n",
    "Modularization is the process of breaking down functions into smaller reusable chunks(modules) so as to improve clarity of the code, and make debugging easier. Modularization is one of the things that makes Functions and Functional Programming important."
   ]
  },
  {
   "cell_type": "code",
   "execution_count": 1,
   "id": "833c146d",
   "metadata": {},
   "outputs": [],
   "source": [
    "def find_root_bounds(x, power):\n",
    "    \"\"\"x a float, power a positive int\n",
    "       return low, high such that lowpower < x and highpower >= x\n",
    "    \"\"\"\n",
    "    low = min(-1, x)\n",
    "    high = max(1, x)\n",
    "    return low, high\n"
   ]
  },
  {
   "cell_type": "code",
   "execution_count": 2,
   "id": "442370b1",
   "metadata": {},
   "outputs": [],
   "source": [
    "\n",
    "def bisection_solve(x, power, epsilon, low, high):\n",
    "    \"\"\"x, epsilon, low, high are floats\n",
    "       epsilon > 0\n",
    "       low <= high and there is an ans between low and high s.t.\n",
    "       ans**power is within epsilon of x\n",
    "       returns ans s.t. ans**power within epsilon of x\"\"\"\n",
    "    ans = (high + low)/2\n",
    "    while abs(ans**power - x) >= epsilon:\n",
    "        if ans**power < x:\n",
    "            low = ans\n",
    "        else:\n",
    "            high = ans\n",
    "        ans = (high + low)/2\n",
    "    return ans\n"
   ]
  },
  {
   "cell_type": "code",
   "execution_count": 3,
   "id": "fe1e0537",
   "metadata": {},
   "outputs": [],
   "source": [
    "\n",
    "def find_root(x, power, epsilon):\n",
    "    \"\"\"Assumes x and epsilon int or float, power an int,\n",
    "       epsilon > 0 & power >= 1\n",
    "       Returns float y such that y**power is within epsilon of x.\n",
    "       If such a float does not exist, it returns None\"\"\"\n",
    "    if x < 0 and power % 2 == 0:\n",
    "        return None # Negative number has no even-powered roots\n",
    "    low, high = find_root_bounds(x, power)\n",
    "    return bisection_solve(x, power, epsilon, low, high)"
   ]
  },
  {
   "cell_type": "code",
   "execution_count": 4,
   "id": "2bc15bb4",
   "metadata": {},
   "outputs": [
    {
     "data": {
      "text/plain": [
       "2.9998779296875"
      ]
     },
     "execution_count": 4,
     "metadata": {},
     "output_type": "execute_result"
    }
   ],
   "source": [
    "find_root(27, 3, 0.01)"
   ]
  }
 ],
 "metadata": {
  "kernelspec": {
   "display_name": ".venv",
   "language": "python",
   "name": "python3"
  },
  "language_info": {
   "codemirror_mode": {
    "name": "ipython",
    "version": 3
   },
   "file_extension": ".py",
   "mimetype": "text/x-python",
   "name": "python",
   "nbconvert_exporter": "python",
   "pygments_lexer": "ipython3",
   "version": "3.11.2"
  }
 },
 "nbformat": 4,
 "nbformat_minor": 5
}

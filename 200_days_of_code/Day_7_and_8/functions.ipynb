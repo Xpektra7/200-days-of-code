{
 "cells": [
  {
   "cell_type": "markdown",
   "id": "d7c2c039",
   "metadata": {},
   "source": [
    "# Getting the square root of a number"
   ]
  },
  {
   "cell_type": "code",
   "execution_count": null,
   "id": "7c4aa1ef",
   "metadata": {},
   "outputs": [
    {
     "name": "stdout",
     "output_type": "stream",
     "text": [
      "Square root of 25 is approximately 5.00030517578125\n"
     ]
    }
   ],
   "source": [
    "x1 = 25\n",
    "epsilon = 0.01\n",
    "\n",
    "\n",
    "if x1 < 0: # If the number returned is negative\n",
    "    print(\"Does not exist\")\n",
    "else:\n",
    "    low = 0\n",
    "    high = max(1,x1)\n",
    "    ans = (high + low)/ 2 # Setting the guess to half of the number as a starting point for binary search \n",
    "    while abs(ans**2 - x1) >= epsilon:\n",
    "        if ans**2 < x1: # If the guess is lower than the square root, move up the binary tree\n",
    "            low = ans\n",
    "        else:  # Else move down the binary tree\n",
    "            high = ans\n",
    "        ans = (high + low)/ 2\n",
    "    print(f\"Square root of {x1} is approximately {ans}\")"
   ]
  },
  {
   "cell_type": "markdown",
   "id": "01b461af",
   "metadata": {},
   "source": [
    "# Getting the cube root of a number"
   ]
  },
  {
   "cell_type": "code",
   "execution_count": 3,
   "id": "f842a6d7",
   "metadata": {},
   "outputs": [
    {
     "name": "stdout",
     "output_type": "stream",
     "text": [
      "Cube root of 8 is approximately -2.0\n"
     ]
    }
   ],
   "source": [
    "x2 = -8\n",
    "epsilon = 0.01\n",
    "\n",
    "# Checking if the number is positive or not\n",
    "if x2 < 0: \n",
    "    is_pos = False\n",
    "    x2 = -x2\n",
    "else:\n",
    "    is_pos = True\n",
    "\n",
    "low = 0\n",
    "high = max(1,x2)\n",
    "ans = (high + low)/ 2 # Setting the guess to half of the number as a starting point for binary search \n",
    "while abs(ans**3 - x2) >= epsilon:\n",
    "    if ans**3 < x2: # If the guess is lower than the cube root, move up the binary tree\n",
    "        low = ans\n",
    "    else: # Else move down the binary tree\n",
    "        high = ans\n",
    "    ans = (high + low)/ 2\n",
    "if is_pos:\n",
    "    print(f\"Cube root of {x2} is approximately {ans}\")\n",
    "else:\n",
    "    print(f\"Cube root of {x2} is approximately {-ans}\")"
   ]
  },
  {
   "cell_type": "markdown",
   "id": "6c01822e",
   "metadata": {},
   "source": [
    "# Getting the nth root of a number"
   ]
  },
  {
   "cell_type": "code",
   "execution_count": 4,
   "id": "9cec3759",
   "metadata": {},
   "outputs": [
    {
     "name": "stdout",
     "output_type": "stream",
     "text": [
      "3 root of 8 is approximately 1.999267578125\n"
     ]
    }
   ],
   "source": [
    "def find_root(x,power,epsilon):\n",
    "    # Checking if the power is an even number\n",
    "    if x < 0 and power % 2 == 0:\n",
    "        print(\"Does not exist\")\n",
    "        return None\n",
    "    \n",
    "    low = min(-1,x)\n",
    "    high = max(1,x)\n",
    "    ans = (high + low)/ 2 # Setting the guess to half of the number as a starting point for binary search \n",
    "    while abs(ans**power - x) >= epsilon:\n",
    "        if ans**power < x: # If the guess is lower than the power root, move up the binary tree\n",
    "            low = ans\n",
    "        else: # Else move down the binary tree\n",
    "            high = ans\n",
    "        ans = (high + low)/ 2\n",
    "   \n",
    "    return ans\n",
    "\n",
    "x3 = 8\n",
    "power = 3\n",
    "epsilon = 0.01\n",
    "ans = find_root(x3, power, epsilon)\n",
    "if ans is not None:\n",
    "    print(f\"{power} root of {x3} is approximately {ans}\")"
   ]
  },
  {
   "cell_type": "markdown",
   "id": "36b56925",
   "metadata": {},
   "source": [
    "# Testing the nth root of a number"
   ]
  },
  {
   "cell_type": "code",
   "execution_count": 5,
   "id": "313f4af0",
   "metadata": {},
   "outputs": [
    {
     "name": "stdout",
     "output_type": "stream",
     "text": [
      "find_root(27, 2, 0.01) = 5.19677734375 : Okay\n",
      "find_root(27, 2, 0.001) = 5.196136474609375 : Okay\n",
      "find_root(27, 3, 0.01) = 2.9998779296875 : Okay\n",
      "find_root(27, 3, 0.001) = 2.9999847412109375 : Okay\n",
      "find_root(27, 4, 0.01) = 2.279541015625 : Okay\n",
      "find_root(27, 4, 0.001) = 2.2794876098632812 : Okay\n",
      "Does not exist\n",
      "find_root(-8, 2, 0.01) = None : No root exists\n",
      "Does not exist\n",
      "find_root(-8, 2, 0.001) = None : No root exists\n",
      "find_root(-8, 3, 0.01) = -1.999267578125 : Okay\n",
      "find_root(-8, 3, 0.001) = -1.9999542236328125 : Okay\n",
      "Does not exist\n",
      "find_root(-8, 4, 0.01) = None : No root exists\n",
      "Does not exist\n",
      "find_root(-8, 4, 0.001) = None : No root exists\n",
      "find_root(0, 2, 0.01) = 0.0 : Okay\n",
      "find_root(0, 2, 0.001) = 0.0 : Okay\n",
      "find_root(0, 3, 0.01) = 0.0 : Okay\n",
      "find_root(0, 3, 0.001) = 0.0 : Okay\n",
      "find_root(0, 4, 0.01) = 0.0 : Okay\n",
      "find_root(0, 4, 0.001) = 0.0 : Okay\n"
     ]
    }
   ],
   "source": [
    "def test_find_root(x_vals, power, epsilon): # Function to test for roots for different values and accuracy\n",
    "    for x in x_vals:\n",
    "        for p in power:\n",
    "            for e in epsilon:\n",
    "                result = find_root(x, p, e)\n",
    "                if result == None:\n",
    "                    val = 'No root exists'\n",
    "                else:\n",
    "                    val = 'Okay'\n",
    "                    if abs(result**p - x) >= e:\n",
    "                        val = 'Bad'\n",
    "                print(f\"find_root({x}, {p}, {e}) = {result} : {val}\")\n",
    "\n",
    "x_vals = [27, -8, 0]\n",
    "power = [2, 3, 4]\n",
    "epsilon = [0.01, 0.001]\n",
    "test_find_root(x_vals, power, epsilon)\n"
   ]
  },
  {
   "cell_type": "code",
   "execution_count": 12,
   "id": "70b57cd2",
   "metadata": {},
   "outputs": [
    {
     "data": {
      "text/plain": [
       "'Euclidean Distance is 2.9999999999417923 units'"
      ]
     },
     "execution_count": 12,
     "metadata": {},
     "output_type": "execute_result"
    }
   ],
   "source": [
    "def euclidean_distance(var1,var0):\n",
    "    if(var0 > var1):\n",
    "        return \"Not Possible\"\n",
    "    else:\n",
    "        ans = find_root(((var1 ** 2) - (var0 **2)),2,0.000000001)\n",
    "        return f\"Euclidean Distance is {ans} units\"\n",
    "\n",
    "euclidean_distance(5,4)"
   ]
  },
  {
   "cell_type": "markdown",
   "id": "eda41f01",
   "metadata": {},
   "source": [
    " # Finding factorial of a number using normal loop"
   ]
  },
  {
   "cell_type": "code",
   "execution_count": 7,
   "id": "9bdba89a",
   "metadata": {},
   "outputs": [
    {
     "name": "stdout",
     "output_type": "stream",
     "text": [
      "Factorial of 5 is 120\n"
     ]
    }
   ],
   "source": [
    "def fact_iter(n): \n",
    "    result = 1\n",
    "    for i in range(1, n + 1):\n",
    "        result *= i\n",
    "    return result\n",
    "print(f\"Factorial of 5 is {fact_iter(5)}\")"
   ]
  }
 ],
 "metadata": {
  "kernelspec": {
   "display_name": ".venv",
   "language": "python",
   "name": "python3"
  },
  "language_info": {
   "codemirror_mode": {
    "name": "ipython",
    "version": 3
   },
   "file_extension": ".py",
   "mimetype": "text/x-python",
   "name": "python",
   "nbconvert_exporter": "python",
   "pygments_lexer": "ipython3",
   "version": "3.11.2"
  }
 },
 "nbformat": 4,
 "nbformat_minor": 5
}

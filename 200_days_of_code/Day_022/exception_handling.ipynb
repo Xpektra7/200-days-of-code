{
 "cells": [
  {
   "cell_type": "markdown",
   "id": "301d7328",
   "metadata": {},
   "source": [
    "# Exception handling\n",
    "Exception handling is the process of managing errors in your program so it can run without crashing. Instead of the program stopping when an error occurs, you catch the error and give helpful feedback, retry operations, or take alternative paths.\n",
    "\n",
    "We also handle exceptions in our everyday life. For example, I don't just decide not to wash clothes because I've run out of detergent, there's no water in the tap, or there's no space on the lines. Instead, what I do is:\n",
    "\n",
    "* If there's no water in the tap: I fetch from the well.\n",
    "\n",
    "* If I've run out of detergent: I borrow from my roommates.\n",
    "\n",
    "* If there's no space on the lines: I spread some on the balcony and some with hangers.\n",
    "\n",
    "\n",
    "Exception handling is a very important step in programming, as it ensures that your program remains stable, user-friendly, and predictable, even when things go wrong. Just like in real life, where you adapt and keep going, exception handling in code lets you manage problems without shutting everything down.\n",
    "\n",
    "In summary, it’s what separates a fragile program from a resilient one."
   ]
  },
  {
   "cell_type": "code",
   "execution_count": null,
   "id": "4c8d138d",
   "metadata": {},
   "outputs": [
    {
     "name": "stdout",
     "output_type": "stream",
     "text": [
      "The file you're trying to read does not exist.\n",
      "Finished trying all operations.\n"
     ]
    }
   ],
   "source": [
    "def handle_exceptions():\n",
    "    try:\n",
    "        user_input = input(\"Enter a number: \")\n",
    "        number = int(user_input)  # Could raise ValueError\n",
    "        result = 10 / number      # Could raise ZeroDivisionError\n",
    "\n",
    "        file = open(\"nonexistent.txt\", \"r\")  # Could raise FileNotFoundError\n",
    "        data = file.read()\n",
    "        file.close()\n",
    "\n",
    "        my_list = [1, 2, 3]\n",
    "        print(my_list[5])  # Could raise IndexError\n",
    "\n",
    "    except ValueError:\n",
    "        print(\"You didn't enter a valid number.\")\n",
    "\n",
    "    except ZeroDivisionError:\n",
    "        print(\"You can't divide by zero.\")\n",
    "\n",
    "    except FileNotFoundError:\n",
    "        print(\"The file you're trying to read does not exist.\")\n",
    "\n",
    "    except IndexError:\n",
    "        print(\"You're trying to access an item that isn't in the list.\")\n",
    "\n",
    "    except Exception as e: # To catch any other exceptions\n",
    "        print(f\"An unexpected error occurred: {e}\")\n",
    "\n",
    "    finally:\n",
    "        print(\"Finished trying all operations.\")\n",
    "\n",
    "handle_exceptions()"
   ]
  }
 ],
 "metadata": {
  "kernelspec": {
   "display_name": ".venv",
   "language": "python",
   "name": "python3"
  },
  "language_info": {
   "codemirror_mode": {
    "name": "ipython",
    "version": 3
   },
   "file_extension": ".py",
   "mimetype": "text/x-python",
   "name": "python",
   "nbconvert_exporter": "python",
   "pygments_lexer": "ipython3",
   "version": "3.11.2"
  }
 },
 "nbformat": 4,
 "nbformat_minor": 5
}

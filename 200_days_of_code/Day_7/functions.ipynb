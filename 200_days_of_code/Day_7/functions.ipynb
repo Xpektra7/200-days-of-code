{
 "cells": [
  {
   "cell_type": "code",
   "execution_count": null,
   "id": "7c4aa1ef",
   "metadata": {},
   "outputs": [],
   "source": [
    "x1 = 25\n",
    "epsilon = 0.01\n",
    "\n",
    "if x1 < 0:\n",
    "    print(\"Does not exist\")\n",
    "else:\n",
    "    low = 0\n",
    "    high = max(1,x1)\n",
    "    ans = (high + low)/ 2\n",
    "    while abs(ans**2 - x1) >= epsilon:\n",
    "        if ans**2 < x1:\n",
    "            low = ans\n",
    "        else:\n",
    "            high = ans\n",
    "        ans = (high + low)/ 2\n",
    "    print(f\"Square root of {x1} is approximately {ans}\")"
   ]
  },
  {
   "cell_type": "code",
   "execution_count": null,
   "id": "f842a6d7",
   "metadata": {},
   "outputs": [],
   "source": [
    "x2 = -8\n",
    "epsilon = 0.01\n",
    "\n",
    "if x2 < 0:\n",
    "    is_pos = False\n",
    "    x2 = -x2\n",
    "else:\n",
    "    is_pos = True\n",
    "low = 0\n",
    "high = max(1,x2)\n",
    "ans = (high + low)/ 2\n",
    "while abs(ans**3 - x2) >= epsilon:\n",
    "    if ans**3 < x2:\n",
    "        low = ans\n",
    "    else:\n",
    "        high = ans\n",
    "    ans = (high + low)/ 2\n",
    "if is_pos:\n",
    "    print(f\"Cube root of {x2} is approximately {ans}\")\n",
    "else:\n",
    "    print(f\"Cube root of {x2} is approximately {-ans}\")"
   ]
  },
  {
   "cell_type": "code",
   "execution_count": null,
   "id": "9cec3759",
   "metadata": {},
   "outputs": [],
   "source": [
    "def find_root(x,power,epsilon):\n",
    "    if x < 0 and power % 2 == 0:\n",
    "        print(\"Does not exist\")\n",
    "        return None\n",
    "    elif x < 0:\n",
    "        is_pos = False\n",
    "        x = -x\n",
    "    else:\n",
    "        is_pos = True\n",
    "    low = 0\n",
    "    high = max(1,x)\n",
    "    ans = (high + low)/ 2\n",
    "    while abs(ans**power - x) >= epsilon:\n",
    "        if ans**power < x:\n",
    "            low = ans\n",
    "        else:\n",
    "            high = ans\n",
    "        ans = (high + low)/ 2\n",
    "    if is_pos:\n",
    "        return ans\n",
    "    else:\n",
    "        return -ans"
   ]
  }
 ],
 "metadata": {
  "language_info": {
   "name": "python"
  }
 },
 "nbformat": 4,
 "nbformat_minor": 5
}

{
 "cells": [
  {
   "cell_type": "markdown",
   "id": "6e1005d9",
   "metadata": {},
   "source": [
    "# Finding factorial of a number using recursive function"
   ]
  },
  {
   "cell_type": "code",
   "execution_count": null,
   "id": "df7fc27a",
   "metadata": {},
   "outputs": [],
   "source": [
    "def fact_rec(n): # Finding factorial of a number using recursive function\n",
    "    if n == 0:\n",
    "        return 1\n",
    "    else:\n",
    "        return n * fact_rec(n - 1)\n",
    "print(f\"Factorial of 5 is {fact_rec(5)}\")\n"
   ]
  },
  {
   "cell_type": "markdown",
   "id": "ef1bba9a",
   "metadata": {},
   "source": [
    "# Getting all the consonants in a string\n",
    "\n",
    "\n"
   ]
  },
  {
   "cell_type": "code",
   "execution_count": 24,
   "id": "a30b6be5",
   "metadata": {},
   "outputs": [
    {
     "name": "stdout",
     "output_type": "stream",
     "text": [
      "BRD\n"
     ]
    }
   ],
   "source": [
    "def remove_vowels(string):\n",
    "    if len(string) == 0:\n",
    "       return ''\n",
    "    else:\n",
    "        if string.lower()[0] in [\"a\",\"e\",\"i\",\"o\",\"u\"]:\n",
    "            return remove_vowels(string[1:])\n",
    "        else:\n",
    "            return  string[0] + remove_vowels(string[1:])\n",
    "    \n",
    "print(remove_vowels(\"BREAD\"))"
   ]
  }
 ],
 "metadata": {
  "kernelspec": {
   "display_name": ".venv",
   "language": "python",
   "name": "python3"
  },
  "language_info": {
   "codemirror_mode": {
    "name": "ipython",
    "version": 3
   },
   "file_extension": ".py",
   "mimetype": "text/x-python",
   "name": "python",
   "nbconvert_exporter": "python",
   "pygments_lexer": "ipython3",
   "version": "3.11.2"
  }
 },
 "nbformat": 4,
 "nbformat_minor": 5
}

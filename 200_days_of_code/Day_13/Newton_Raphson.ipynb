{
 "cells": [
  {
   "cell_type": "code",
   "execution_count": null,
   "id": "7d1cabbc",
   "metadata": {},
   "outputs": [],
   "source": [
    "TOL = 0.000001  # tolerance\n",
    "N = 500         # max number of iterations\n",
    "\n",
    "def fval(x,value):\n",
    "    y = (x**2) - value\n",
    "    return y\n",
    "\n",
    "def dfval(x):\n",
    "    dy = 2 * x\n",
    "    return dy\n",
    "\n",
    "x0 = float(input(\"Enter the initial approximation: \"))\n",
    "value = float(input(\"Enter the value of k: \"))  \n",
    "\n",
    "xk = x0\n",
    "fxk = fval(xk,value)\n",
    "\n",
    "print(\"iter.\\t xk\\t\\t\\t f(xk)\\t\\t\\t Error\")\n",
    "for k in range(1, N + 1):\n",
    "    xp = xk\n",
    "    fxp = fxk\n",
    "    dfxp = dfval(xp)\n",
    "\n",
    "    if dfxp == 0:\n",
    "        print(\"Zero derivative. Method fails.\")\n",
    "        break\n",
    "\n",
    "    xk = xp - fxp / dfxp\n",
    "    fxk = fval(xk,value)\n",
    "    err = abs(xk - xp) / abs(xk)\n",
    "\n",
    "    print(f\"{k}\\t {xk:.16f}\\t {fxk:.16f}\\t {err:.12f}\")\n",
    "\n",
    "    if err < TOL:\n",
    "        print(\"Required accuracy achieved; Solution is convergent.\")\n",
    "        break\n",
    "else:\n",
    "    print(\"The number of iterations exceeded the maximum limit.\")"
   ]
  }
 ],
 "metadata": {
  "kernelspec": {
   "display_name": ".venv",
   "language": "python",
   "name": "python3"
  },
  "language_info": {
   "name": "python",
   "version": "3.11.2"
  }
 },
 "nbformat": 4,
 "nbformat_minor": 5
}

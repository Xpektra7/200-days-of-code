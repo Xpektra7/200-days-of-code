{
 "cells": [
  {
   "cell_type": "code",
   "execution_count": null,
   "id": "7d1cabbc",
   "metadata": {},
   "outputs": [
    {
     "name": "stdout",
     "output_type": "stream",
     "text": [
      "iter.\t xk\t\t\t f(xk)\t\t\t Error\n",
      "1\t -59.4166666666666643\t -209032.0515046296059154\t 1.033660589060\n",
      "2\t -39.6799430029062421\t -61746.9860062039733748\t 0.497397984224\n",
      "3\t -26.6076302528301696\t -18108.2972315382903616\t 0.491299398927\n",
      "4\t -18.0816569966379248\t -5182.7312099252967528\t 0.471526102822\n",
      "5\t -12.7976792741559819\t -1367.0115236341575837\t 0.412885618501\n",
      "6\t -10.0154784375860917\t -275.6507224450862168\t 0.277790107972\n",
      "7\t -9.0994805339449449\t -24.4419564145705408\t 0.100664856661\n",
      "8\t -9.0010836126725575\t -0.2633495845473135\t 0.010931675063\n",
      "9\t -9.0000001304475497\t -0.0000316987550377\t 0.000120386912\n",
      "10\t -9.0000000000000018\t -0.0000000000004547\t 0.000000014494\n",
      "Required accuracy achieved; Solution is convergent.\n"
     ]
    }
   ],
   "source": [
    "TOL = 0.000001  # tolerance\n",
    "N = 500         # max number of iterations\n",
    "\n",
    "def fval(x,value): # Defining the function to get the cube root of a number\n",
    "    y = (x**3) - value\n",
    "    return y\n",
    "\n",
    "def dfval(x):\n",
    "    dy = (3 * (x **2))  # Derivative of the function\n",
    "    return dy\n",
    "\n",
    "x0 = float(input(\"Enter the initial approximation: \"))\n",
    "value = float(input(\"Enter the value of k: \"))  \n",
    "\n",
    "xk = x0 # Initial guess\n",
    "fxk = fval(xk,value)\n",
    "\n",
    "print(\"iter.\\t xk\\t\\t\\t f(xk)\\t\\t\\t Error\")                       # x0=1,val=27,xk=9.667,fxk=876.29,xp=9.667,fxp=876.29,dfxp=3,\n",
    "for k in range(1, N + 1):\n",
    "    xp = xk\n",
    "    fxp = fxk # Function value at the current approximation\n",
    "    dfxp = dfval(xp) # Derivative of the current approximation\n",
    "\n",
    "    if dfxp == 0: # If the derivative is zero, break the loop\n",
    "        print(\"Zero derivative. Method fails.\")\n",
    "        break\n",
    "\n",
    "    xk = xp - fxp / dfxp # Performing Newton's method\n",
    "    fxk = fval(xk,value) # Getting the function value for the new approximation\n",
    "    err = abs(xk - xp) / abs(xk) # Checking how close the new approximation is to the previous one\n",
    "\n",
    "    print(f\"{k}\\t {xk:.16f}\\t {fxk:.16f}\\t {err:.12f}\")\n",
    "\n",
    "    if err < TOL:\n",
    "        print(\"Required accuracy achieved; Solution is convergent.\")\n",
    "        break\n",
    "else:\n",
    "    print(\"The number of iterations exceeded the maximum limit.\")"
   ]
  }
 ],
 "metadata": {
  "kernelspec": {
   "display_name": ".venv",
   "language": "python",
   "name": "python3"
  },
  "language_info": {
   "codemirror_mode": {
    "name": "ipython",
    "version": 3
   },
   "file_extension": ".py",
   "mimetype": "text/x-python",
   "name": "python",
   "nbconvert_exporter": "python",
   "pygments_lexer": "ipython3",
   "version": "3.11.2"
  }
 },
 "nbformat": 4,
 "nbformat_minor": 5
}

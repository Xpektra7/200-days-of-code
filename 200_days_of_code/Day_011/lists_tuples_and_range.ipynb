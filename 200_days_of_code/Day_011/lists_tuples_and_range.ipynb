{
 "cells": [
  {
   "cell_type": "markdown",
   "id": "9cb7bac2",
   "metadata": {},
   "source": [
    "# Lists, Tuples and Range\n",
    "List, tuples and range are all iterables used to store multiple elements. Iterables in the sense that they can be looped through while performing operation on each elements or based on each element.\n"
   ]
  },
  {
   "cell_type": "markdown",
   "id": "4e61915d",
   "metadata": {},
   "source": [
    "## Lists\n",
    "List is different from tuples and ranges, in that it's mutable i.e Its content can be  modified, elements can be removed, added, edited e.t.c. List are used to store related data that may change over time and are declared using square brackets '[]'"
   ]
  },
  {
   "cell_type": "code",
   "execution_count": 4,
   "id": "5c96f604",
   "metadata": {},
   "outputs": [
    {
     "name": "stdout",
     "output_type": "stream",
     "text": [
      "Fruits: ['Banana', 'Orange', 'Coconut', 'Apple', 'Pineapple', 'Strawberry']\n",
      "Vegetables: ['Carrot', 'Potato', 'Tomato', 'Cabbage', 'Onion', 'Pepper']\n",
      "Fruits: ['Banana', 'Orange', 'Coconut', 'Apple', 'Pineapple', 'Strawberry', 'Kiwi']\n",
      "Fruits: ['Banana', 'Orange', 'Coconut', 'Apple', 'Pineapple', 'Strawberry']\n",
      "Fruits: ['Orange', 'Coconut', 'Apple', 'Pineapple', 'Strawberry']\n",
      "Fruits: ['Banana', 'Orange', 'Coconut', 'Apple', 'Pineapple', 'Strawberry']\n",
      "Fruits: ['Apple', 'Banana', 'Coconut', 'Orange', 'Pineapple', 'Strawberry']\n",
      "Groceries: ['Apple', 'Banana', 'Coconut', 'Orange', 'Pineapple', 'Strawberry', 'Carrot', 'Potato', 'Tomato', 'Cabbage', 'Onion', 'Pepper']\n"
     ]
    }
   ],
   "source": [
    "fruits = [\"Banana\",\"Orange\",\"Coconut\",\"Apple\",\"Pineapple\",\"Strawberry\"]\n",
    "vegetables = [\"Carrot\",\"Potato\",\"Tomato\",\"Cabbage\",\"Onion\",\"Pepper\"]\n",
    "\n",
    "print(f\"Fruits: {fruits}\")\n",
    "\n",
    "print(f\"Vegetables: {vegetables}\")\n",
    "\n",
    "fruits.append(\"Kiwi\") # Adds element to the end of the list\n",
    "print(f\"Fruits: {fruits}\")\n",
    "\n",
    "fruits.pop() # Removes the last element from the list\n",
    "print(f\"Fruits: {fruits}\")\n",
    "\n",
    "fruits.remove(\"Banana\") # Removes element from the list\n",
    "print(f\"Fruits: {fruits}\")\n",
    "\n",
    "fruits.insert(0,\"Banana\") # Inserts element at the specified index\n",
    "print(f\"Fruits: {fruits}\")\n",
    "\n",
    "fruits.sort() # Sorts the list in ascending order\n",
    "print(f\"Fruits: {fruits}\")\n",
    "\n",
    "fruits.extend(vegetables) # Merges two lists\n",
    "print(f\"Groceries: {fruits}\")\n",
    "\n"
   ]
  },
  {
   "cell_type": "markdown",
   "id": "30fb1651",
   "metadata": {},
   "source": [
    "## Tuples\n",
    "Tuples on the other and are like lists except that it's immutable i.e after being assigned they its contents can be modified. Tuples are used to store sensitive data that you need to be free from being modified intentionally or accidentally. Tuples are declared using parentheses '()'"
   ]
  },
  {
   "cell_type": "code",
   "execution_count": 6,
   "id": "507f8b3d",
   "metadata": {},
   "outputs": [
    {
     "name": "stdout",
     "output_type": "stream",
     "text": [
      "Scores: (10, 20, 30, 40, 50, 60, 70, 80, 90)\n",
      "Scores: (10, 20, 30, 40, 50, 60, 70, 80, 90)\n",
      "Scores: (10, 20, 30, 40, 50, 60, 70, 80, 90)\n"
     ]
    }
   ],
   "source": [
    "scores = (10, 20, 30, 40, 50, 60, 70, 80, 90) # List of scores)\n",
    "print(f\"Scores: {scores}\")\n",
    "\n",
    "# scores[0] = 100 # This will raise an error because tuples are immutable\n",
    "print(f\"Scores: {scores}\")\n",
    "# scores.append(60) # This will raise an error because tuples are immutable\n",
    "# scores.remove(10) # This will raise an error because tuples are immutable\n",
    "print(f\"Scores: {scores}\")\n",
    "# scores.sort() # This will raise an error because tuples are immutable\n",
    "# scores.extend([60, 70]) # This will raise an error because tuples are immutable   "
   ]
  },
  {
   "cell_type": "markdown",
   "id": "ec9724f5",
   "metadata": {},
   "source": [
    "## Range\n",
    "Ranges are like predefined blueprints for generating tuples of sequence of numbers based on specified argument, ranges are mostly used with loops to iterate over the sequence of numbers. Range are declared using 'range(start,stop,step)'."
   ]
  },
  {
   "cell_type": "code",
   "execution_count": 7,
   "id": "40997d79",
   "metadata": {},
   "outputs": [
    {
     "name": "stdout",
     "output_type": "stream",
     "text": [
      "0\n",
      "10\n",
      "20\n",
      "30\n",
      "40\n",
      "50\n",
      "60\n",
      "70\n",
      "80\n",
      "90\n",
      "100\n",
      "90\n",
      "80\n",
      "70\n",
      "60\n",
      "50\n",
      "40\n",
      "30\n",
      "20\n",
      "10\n",
      "Apple\n",
      "Banana\n",
      "Coconut\n",
      "Orange\n",
      "Pineapple\n",
      "Strawberry\n",
      "Carrot\n",
      "Potato\n",
      "Tomato\n",
      "Cabbage\n",
      "Onion\n",
      "Pepper\n",
      "Pepper\n",
      "Onion\n",
      "Cabbage\n",
      "Tomato\n",
      "Potato\n",
      "Carrot\n",
      "Strawberry\n",
      "Pineapple\n",
      "Orange\n",
      "Coconut\n",
      "Banana\n",
      "Apple\n",
      "10\n",
      "30\n",
      "50\n",
      "70\n",
      "90\n"
     ]
    }
   ],
   "source": [
    "for i in range(0,100,10):\n",
    "    print(i) # Prints numbers from 0 to 90 in steps of 10\n",
    "for i in range(100,0,-10):\n",
    "    print(i) # Prints numbers from 100 to 10 in steps of 10\n",
    "for i in range(len(fruits)):\n",
    "    print(fruits[i]) # Prints all elements in the list\n",
    "for i in range(len(fruits)-1,-1,-1):    \n",
    "    print(fruits[i]) # Prints all elements in the list in reverse order\n",
    "for i in range(0, len(scores), 2):\n",
    "    print(scores[i]) # Prints every second element in the tuple"
   ]
  }
 ],
 "metadata": {
  "kernelspec": {
   "display_name": ".venv",
   "language": "python",
   "name": "python3"
  },
  "language_info": {
   "codemirror_mode": {
    "name": "ipython",
    "version": 3
   },
   "file_extension": ".py",
   "mimetype": "text/x-python",
   "name": "python",
   "nbconvert_exporter": "python",
   "pygments_lexer": "ipython3",
   "version": "3.11.2"
  }
 },
 "nbformat": 4,
 "nbformat_minor": 5
}

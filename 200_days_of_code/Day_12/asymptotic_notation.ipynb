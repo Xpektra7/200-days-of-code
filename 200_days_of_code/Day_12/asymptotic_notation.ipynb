{
 "cells": [
  {
   "cell_type": "markdown",
   "id": "fa9a6174",
   "metadata": {},
   "source": [
    "# Asymptotic notation\n",
    "Asymptotic notation is a mathematical tool that helps computer scientists analyze an algorithm's efficiency in terms of space and time complexity as the input size increases. It also allows for the comparison of different algorithms. \n",
    "\n",
    "There are different asymptotic notations such as the Big-Θ(Theta) and the Big-Ω(Omega), but the most common and widely used is the Big-O notation.\n",
    "\n",
    "## Big-O notation\n",
    "The Big-O notation describes the upper-bound of the time complexity of an algorithm i.e., it expresses the worst-case scenario of an algorithm and helps analyze the limits of an algorithm.\n",
    "\n",
    "The different complexeties Big-O describes are:"
   ]
  },
  {
   "cell_type": "markdown",
   "id": "de339576",
   "metadata": {},
   "source": [
    "### O(1) - Constant Time"
   ]
  },
  {
   "cell_type": "code",
   "execution_count": null,
   "id": "82c4e48e",
   "metadata": {},
   "outputs": [],
   "source": [
    "def increment(x):\n",
    "    # Increment the input number by 1.\n",
    "    return x + 1"
   ]
  },
  {
   "cell_type": "markdown",
   "id": "fa031975",
   "metadata": {},
   "source": [
    "### O(log n) - Logarithmic Time"
   ]
  },
  {
   "cell_type": "code",
   "execution_count": null,
   "id": "5402145a",
   "metadata": {},
   "outputs": [],
   "source": [
    "def square_root(x1,epsilon=0.01):\n",
    "    # Calculate the square root of a number using binary search.\n",
    "    if x1 < 0: \n",
    "        print(\"Does not exist\")\n",
    "    else:\n",
    "        low = 0\n",
    "        high = max(1,x1)\n",
    "        ans = (high + low)/ 2\n",
    "        while abs(ans**2 - x1) >= epsilon:\n",
    "            if ans**2 < x1: \n",
    "                low = ans\n",
    "            else: \n",
    "                high = ans\n",
    "            ans = (high + low)/ 2\n",
    "        "
   ]
  },
  {
   "cell_type": "markdown",
   "id": "85fd4258",
   "metadata": {},
   "source": [
    "### O(n) - Linear Time\n"
   ]
  },
  {
   "cell_type": "code",
   "execution_count": null,
   "id": "cf84adf8",
   "metadata": {},
   "outputs": [],
   "source": [
    "def loop(n):\n",
    "    # Print numbers from 0 to n-1.\n",
    "    for i in range(n):\n",
    "        pass"
   ]
  },
  {
   "cell_type": "markdown",
   "id": "8f169645",
   "metadata": {},
   "source": [
    "### O(n^2) - Quadratic Time"
   ]
  },
  {
   "cell_type": "code",
   "execution_count": 1,
   "id": "f6bb4e5f",
   "metadata": {},
   "outputs": [],
   "source": [
    "def bubble_sort(n):\n",
    "    # Creates a power set of a number\n",
    "    for i in range(n):\n",
    "        for j in range(n):\n",
    "            pass\n"
   ]
  },
  {
   "cell_type": "markdown",
   "id": "3da5b3cc",
   "metadata": {},
   "source": [
    "### O(2 ^ n) - Exponential Time"
   ]
  },
  {
   "cell_type": "code",
   "execution_count": null,
   "id": "06d3a7d8",
   "metadata": {},
   "outputs": [],
   "source": [
    "def fibonacci(n):\n",
    "    if n<= 1:\n",
    "        return 1\n",
    "    return "
   ]
  }
 ],
 "metadata": {
  "kernelspec": {
   "display_name": ".venv",
   "language": "python",
   "name": "python3"
  },
  "language_info": {
   "codemirror_mode": {
    "name": "ipython",
    "version": 3
   },
   "file_extension": ".py",
   "mimetype": "text/x-python",
   "name": "python",
   "nbconvert_exporter": "python",
   "pygments_lexer": "ipython3",
   "version": "3.11.2"
  }
 },
 "nbformat": 4,
 "nbformat_minor": 5
}
